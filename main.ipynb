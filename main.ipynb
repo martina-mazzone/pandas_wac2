{
 "cells": [
  {
   "cell_type": "code",
   "execution_count": 1,
   "metadata": {},
   "outputs": [],
   "source": [
    "import pandas as pd"
   ]
  },
  {
   "cell_type": "code",
   "execution_count": 2,
   "metadata": {},
   "outputs": [],
   "source": [
    "df = pd.read_csv('world_alcohol.csv')"
   ]
  },
  {
   "cell_type": "code",
   "execution_count": 3,
   "metadata": {},
   "outputs": [],
   "source": [
    "world_alcohol_data = pd.read_csv('world_alcohol.csv')\n"
   ]
  },
  {
   "cell_type": "code",
   "execution_count": 4,
   "metadata": {},
   "outputs": [
    {
     "name": "stdout",
     "output_type": "stream",
     "text": [
      "    Year             WHO region  \\\n",
      "1   1986               Americas   \n",
      "2   1985                 Africa   \n",
      "4   1987               Americas   \n",
      "8   1986               Americas   \n",
      "11  1989               Americas   \n",
      "17  1989                 Africa   \n",
      "18  1984                 Europe   \n",
      "19  1984                 Africa   \n",
      "26  1985                 Europe   \n",
      "27  1984  Eastern Mediterranean   \n",
      "32  1989                 Africa   \n",
      "34  1986                 Europe   \n",
      "35  1985               Americas   \n",
      "40  1987                 Europe   \n",
      "46  1987               Americas   \n",
      "48  1987               Americas   \n",
      "49  1986                 Europe   \n",
      "54  1984               Americas   \n",
      "64  1989               Americas   \n",
      "70  1986                 Africa   \n",
      "71  1985                 Africa   \n",
      "74  1986               Americas   \n",
      "79  1989                 Europe   \n",
      "80  1985                 Africa   \n",
      "82  1987                 Europe   \n",
      "86  1986               Americas   \n",
      "89  1986  Eastern Mediterranean   \n",
      "\n",
      "                                              Country Beverage Types  \\\n",
      "1                                             Uruguay          Other   \n",
      "2                                        Cte d'Ivoire           Wine   \n",
      "4                               Saint Kitts and Nevis           Beer   \n",
      "8                                 Antigua and Barbuda        Spirits   \n",
      "11                                          Guatemala           Beer   \n",
      "17                                         Seychelles           Beer   \n",
      "18                                             Norway        Spirits   \n",
      "19                                              Kenya           Beer   \n",
      "26  United Kingdom of Great Britain and Northern I...           Wine   \n",
      "27                                            Bahrain           Beer   \n",
      "32                                          Mauritius           Beer   \n",
      "34                                 Russian Federation           Wine   \n",
      "35                              Saint Kitts and Nevis        Spirits   \n",
      "40                                            Austria        Spirits   \n",
      "46                                Trinidad and Tobago        Spirits   \n",
      "48                                          Nicaragua           Beer   \n",
      "49                                              Malta           Wine   \n",
      "54                                        El Salvador        Spirits   \n",
      "64                   Bolivia (Plurinational State of)           Beer   \n",
      "70                                         Madagascar        Spirits   \n",
      "71                                               Mali          Other   \n",
      "74                   Bolivia (Plurinational State of)        Spirits   \n",
      "79                                            Finland          Other   \n",
      "80                                             Malawi          Other   \n",
      "82                                            Ireland        Spirits   \n",
      "86                                            Bahamas           Wine   \n",
      "89                                            Lebanon           Wine   \n",
      "\n",
      "    Display Value  \n",
      "1            0.50  \n",
      "2            1.62  \n",
      "4            1.98  \n",
      "8            1.55  \n",
      "11           0.62  \n",
      "17           2.23  \n",
      "18           1.62  \n",
      "19           1.08  \n",
      "26           1.36  \n",
      "27           2.22  \n",
      "32           1.60  \n",
      "34           0.80  \n",
      "35           2.24  \n",
      "40           1.90  \n",
      "46           2.26  \n",
      "48           0.70  \n",
      "49           1.49  \n",
      "54           1.81  \n",
      "64           1.26  \n",
      "70           1.02  \n",
      "71           0.57  \n",
      "74           2.06  \n",
      "79           2.09  \n",
      "80           0.84  \n",
      "82           2.25  \n",
      "86           1.83  \n",
      "89           0.70  \n"
     ]
    }
   ],
   "source": [
    "# Filter records where the 'Display Value' is between 0.5 and 2.5\n",
    "filtered_data = world_alcohol_data[\n",
    "    (world_alcohol_data['Display Value'] >= 0.5) & \n",
    "    (world_alcohol_data['Display Value'] <= 2.5)\n",
    "]\n",
    "\n",
    "# Display the filtered dataset\n",
    "print(filtered_data)"
   ]
  }
 ],
 "metadata": {
  "kernelspec": {
   "display_name": ".venv",
   "language": "python",
   "name": "python3"
  },
  "language_info": {
   "codemirror_mode": {
    "name": "ipython",
    "version": 3
   },
   "file_extension": ".py",
   "mimetype": "text/x-python",
   "name": "python",
   "nbconvert_exporter": "python",
   "pygments_lexer": "ipython3",
   "version": "3.13.0"
  }
 },
 "nbformat": 4,
 "nbformat_minor": 2
}
